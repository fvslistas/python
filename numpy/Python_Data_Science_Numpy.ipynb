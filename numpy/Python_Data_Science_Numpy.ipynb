{
 "cells": [
  {
   "cell_type": "markdown",
   "metadata": {},
   "source": [
    "Carregando"
   ]
  },
  {
   "cell_type": "code",
   "execution_count": 5,
   "metadata": {},
   "outputs": [],
   "source": [
    "import numpy as np\n",
    "\n",
    "anos = np.loadtxt(fname='data/carros-anos.txt', dtype=int)\n",
    "km = np.loadtxt(fname='data/carros-km.txt')\n",
    "valor = np.loadtxt(fname='data/carros-valor.txt')"
   ]
  },
  {
   "cell_type": "code",
   "execution_count": 6,
   "metadata": {},
   "outputs": [
    {
     "data": {
      "text/plain": [
       "(258, 3)"
      ]
     },
     "execution_count": 6,
     "metadata": {},
     "output_type": "execute_result"
    }
   ],
   "source": [
    "dataset = np.column_stack((anos, km, valor))\n",
    "dataset.shape"
   ]
  },
  {
   "cell_type": "code",
   "execution_count": 7,
   "metadata": {},
   "outputs": [
    {
     "name": "stdout",
     "output_type": "stream",
     "text": [
      "44499.41472868217\n",
      "39859.82699005149\n",
      "11480849.0\n"
     ]
    }
   ],
   "source": [
    "print(np.mean(dataset[:, 1]))\n",
    "print(np.std(dataset[:, 1]))\n",
    "print(np.sum(dataset[:, 1]))"
   ]
  },
  {
   "cell_type": "code",
   "execution_count": 8,
   "metadata": {},
   "outputs": [
    {
     "data": {
      "text/plain": [
       "{'Crossfox': {'valor': 72000, 'ano': 2005},\n",
       " 'DS5': {'valor': 125000, 'ano': 2015},\n",
       " 'Fusca': {'valor': 150000, 'ano': 1976},\n",
       " 'Jetta': {'valor': 88000, 'ano': 2010},\n",
       " 'Passat': {'valor': 106000, 'ano': 1998}}"
      ]
     },
     "execution_count": 8,
     "metadata": {},
     "output_type": "execute_result"
    }
   ],
   "source": [
    "dados = {\n",
    "    'Crossfox': {'valor': 72000, 'ano': 2005}, \n",
    "    'DS5': {'valor': 125000, 'ano': 2015}, \n",
    "    'Fusca': {'valor': 150000, 'ano': 1976}, \n",
    "    'Jetta': {'valor': 88000, 'ano': 2010}, \n",
    "    'Passat': {'valor': 106000, 'ano': 1998}\n",
    "}\n",
    "dados"
   ]
  },
  {
   "cell_type": "code",
   "execution_count": 22,
   "metadata": {},
   "outputs": [
    {
     "name": "stdout",
     "output_type": "stream",
     "text": [
      "2005\n",
      "2015\n",
      "1976\n",
      "2010\n",
      "1998\n"
     ]
    }
   ],
   "source": [
    "for item in dados.items() :\n",
    "    print(item[1]['ano'])\n",
    "    \n"
   ]
  },
  {
   "cell_type": "code",
   "execution_count": 23,
   "metadata": {},
   "outputs": [],
   "source": [
    "dados = {\n",
    "    'Crossfox': {'km': 35000, 'ano': 2005}, \n",
    "    'DS5': {'km': 17000, 'ano': 2015}, \n",
    "    'Fusca': {'km': 130000, 'ano': 1979}, \n",
    "    'Jetta': {'km': 56000, 'ano': 2011}, \n",
    "    'Passat': {'km': 62000, 'ano': 1999}\n",
    "}"
   ]
  },
  {
   "cell_type": "code",
   "execution_count": 38,
   "metadata": {},
   "outputs": [
    {
     "name": "stdout",
     "output_type": "stream",
     "text": [
      "{'Crossfox': 2500.0, 'DS5': 4250.0, 'Fusca': 3250.0, 'Jetta': 7000.0, 'Passat': 3100.0}\n"
     ]
    }
   ],
   "source": [
    "def km_media(dataset, ano_atual):\n",
    "    result = {}\n",
    "    for item in dataset.items():\n",
    "        _media = item[1]['km'] / (ano_atual - item[1]['ano'])\n",
    "        result.update({item[0]: _media})\n",
    "    return result\n",
    "\n",
    "\n",
    "print(km_media(dados, 2019))\n",
    "\n"
   ]
  },
  {
   "cell_type": "code",
   "execution_count": 39,
   "metadata": {},
   "outputs": [],
   "source": [
    "import pandas as pd\n",
    "\n",
    "dados = {\n",
    "    'Crossfox': {'km': 35000, 'ano': 2005}, \n",
    "    'DS5': {'km': 17000, 'ano': 2015}, \n",
    "    'Fusca': {'km': 130000, 'ano': 1979}, \n",
    "    'Jetta': {'km': 56000, 'ano': 2011}, \n",
    "    'Passat': {'km': 62000, 'ano': 1999}\n",
    "}"
   ]
  },
  {
   "cell_type": "code",
   "execution_count": 40,
   "metadata": {},
   "outputs": [],
   "source": [
    "def km_media(dataset, ano_atual):\n",
    "    result = {}\n",
    "    for item in dataset.items():\n",
    "        media = item[1]['km'] / (ano_atual - item[1]['ano'])\n",
    "        item[1].update({ 'km_media': media })\n",
    "        result.update({ item[0]: item[1] })\n",
    "\n",
    "    return result"
   ]
  },
  {
   "cell_type": "code",
   "execution_count": 41,
   "metadata": {},
   "outputs": [
    {
     "data": {
      "text/plain": [
       "{'Crossfox': {'km': 35000, 'ano': 2005, 'km_media': 2500.0},\n",
       " 'DS5': {'km': 17000, 'ano': 2015, 'km_media': 4250.0},\n",
       " 'Fusca': {'km': 130000, 'ano': 1979, 'km_media': 3250.0},\n",
       " 'Jetta': {'km': 56000, 'ano': 2011, 'km_media': 7000.0},\n",
       " 'Passat': {'km': 62000, 'ano': 1999, 'km_media': 3100.0}}"
      ]
     },
     "execution_count": 41,
     "metadata": {},
     "output_type": "execute_result"
    }
   ],
   "source": [
    "km_media(dados, 2019)"
   ]
  },
  {
   "cell_type": "code",
   "execution_count": 44,
   "metadata": {},
   "outputs": [
    {
     "data": {
      "text/html": [
       "<div>\n",
       "<style scoped>\n",
       "    .dataframe tbody tr th:only-of-type {\n",
       "        vertical-align: middle;\n",
       "    }\n",
       "\n",
       "    .dataframe tbody tr th {\n",
       "        vertical-align: top;\n",
       "    }\n",
       "\n",
       "    .dataframe thead th {\n",
       "        text-align: right;\n",
       "    }\n",
       "</style>\n",
       "<table border=\"1\" class=\"dataframe\">\n",
       "  <thead>\n",
       "    <tr style=\"text-align: right;\">\n",
       "      <th></th>\n",
       "      <th>km</th>\n",
       "      <th>ano</th>\n",
       "      <th>km_media</th>\n",
       "    </tr>\n",
       "  </thead>\n",
       "  <tbody>\n",
       "    <tr>\n",
       "      <th>Crossfox</th>\n",
       "      <td>35000.0</td>\n",
       "      <td>2005.0</td>\n",
       "      <td>2500.0</td>\n",
       "    </tr>\n",
       "    <tr>\n",
       "      <th>DS5</th>\n",
       "      <td>17000.0</td>\n",
       "      <td>2015.0</td>\n",
       "      <td>4250.0</td>\n",
       "    </tr>\n",
       "    <tr>\n",
       "      <th>Fusca</th>\n",
       "      <td>130000.0</td>\n",
       "      <td>1979.0</td>\n",
       "      <td>3250.0</td>\n",
       "    </tr>\n",
       "    <tr>\n",
       "      <th>Jetta</th>\n",
       "      <td>56000.0</td>\n",
       "      <td>2011.0</td>\n",
       "      <td>7000.0</td>\n",
       "    </tr>\n",
       "    <tr>\n",
       "      <th>Passat</th>\n",
       "      <td>62000.0</td>\n",
       "      <td>1999.0</td>\n",
       "      <td>3100.0</td>\n",
       "    </tr>\n",
       "  </tbody>\n",
       "</table>\n",
       "</div>"
      ],
      "text/plain": [
       "                km     ano  km_media\n",
       "Crossfox   35000.0  2005.0    2500.0\n",
       "DS5        17000.0  2015.0    4250.0\n",
       "Fusca     130000.0  1979.0    3250.0\n",
       "Jetta      56000.0  2011.0    7000.0\n",
       "Passat     62000.0  1999.0    3100.0"
      ]
     },
     "execution_count": 44,
     "metadata": {},
     "output_type": "execute_result"
    }
   ],
   "source": [
    "pd.DataFrame(km_media(dados, 2019)).T"
   ]
  },
  {
   "cell_type": "code",
   "execution_count": 45,
   "metadata": {},
   "outputs": [
    {
     "data": {
      "text/html": [
       "<div>\n",
       "<style scoped>\n",
       "    .dataframe tbody tr th:only-of-type {\n",
       "        vertical-align: middle;\n",
       "    }\n",
       "\n",
       "    .dataframe tbody tr th {\n",
       "        vertical-align: top;\n",
       "    }\n",
       "\n",
       "    .dataframe thead th {\n",
       "        text-align: right;\n",
       "    }\n",
       "</style>\n",
       "<table border=\"1\" class=\"dataframe\">\n",
       "  <thead>\n",
       "    <tr style=\"text-align: right;\">\n",
       "      <th></th>\n",
       "      <th>Crossfox</th>\n",
       "      <th>DS5</th>\n",
       "      <th>Fusca</th>\n",
       "      <th>Jetta</th>\n",
       "      <th>Passat</th>\n",
       "    </tr>\n",
       "  </thead>\n",
       "  <tbody>\n",
       "    <tr>\n",
       "      <th>km</th>\n",
       "      <td>35000.0</td>\n",
       "      <td>17000.0</td>\n",
       "      <td>130000.0</td>\n",
       "      <td>56000.0</td>\n",
       "      <td>62000.0</td>\n",
       "    </tr>\n",
       "    <tr>\n",
       "      <th>ano</th>\n",
       "      <td>2005.0</td>\n",
       "      <td>2015.0</td>\n",
       "      <td>1979.0</td>\n",
       "      <td>2011.0</td>\n",
       "      <td>1999.0</td>\n",
       "    </tr>\n",
       "    <tr>\n",
       "      <th>km_media</th>\n",
       "      <td>2500.0</td>\n",
       "      <td>4250.0</td>\n",
       "      <td>3250.0</td>\n",
       "      <td>7000.0</td>\n",
       "      <td>3100.0</td>\n",
       "    </tr>\n",
       "  </tbody>\n",
       "</table>\n",
       "</div>"
      ],
      "text/plain": [
       "          Crossfox      DS5     Fusca    Jetta   Passat\n",
       "km         35000.0  17000.0  130000.0  56000.0  62000.0\n",
       "ano         2005.0   2015.0    1979.0   2011.0   1999.0\n",
       "km_media    2500.0   4250.0    3250.0   7000.0   3100.0"
      ]
     },
     "execution_count": 45,
     "metadata": {},
     "output_type": "execute_result"
    }
   ],
   "source": [
    "pd.DataFrame(km_media(dados, 2019))"
   ]
  },
  {
   "cell_type": "code",
   "execution_count": 46,
   "metadata": {},
   "outputs": [],
   "source": [
    "import pandas as pd\n",
    "\n",
    "dados = {\n",
    "    'Nome': ['Jetta', 'Passat', 'Crossfox', 'DS5', 'Fusca'], \n",
    "    'Motor': ['Motor 4.0 Turbo', 'Motor Diesel', 'Motor Diesel V8', 'Motor 2.0', 'Motor 1.6'],\n",
    "    'Ano': [2019, 2003, 1991, 2019, 1990],\n",
    "    'Quilometragem': [0.0, 5712.0, 37123.0, 0.0, 120000.0],\n",
    "    'Zero_km': [True, False, False, True, False],\n",
    "    'Valor': [88000.0, 106000.0, 72000.0, 89000.0, 32000.0]\n",
    "}\n",
    "\n",
    "dataset = pd.DataFrame(dados)"
   ]
  },
  {
   "cell_type": "code",
   "execution_count": 63,
   "metadata": {},
   "outputs": [
    {
     "data": {
      "text/html": [
       "<div>\n",
       "<style scoped>\n",
       "    .dataframe tbody tr th:only-of-type {\n",
       "        vertical-align: middle;\n",
       "    }\n",
       "\n",
       "    .dataframe tbody tr th {\n",
       "        vertical-align: top;\n",
       "    }\n",
       "\n",
       "    .dataframe thead th {\n",
       "        text-align: right;\n",
       "    }\n",
       "</style>\n",
       "<table border=\"1\" class=\"dataframe\">\n",
       "  <thead>\n",
       "    <tr style=\"text-align: right;\">\n",
       "      <th></th>\n",
       "      <th>Nome</th>\n",
       "      <th>Ano</th>\n",
       "      <th>Quilometragem</th>\n",
       "      <th>Valor</th>\n",
       "    </tr>\n",
       "  </thead>\n",
       "  <tbody>\n",
       "    <tr>\n",
       "      <th>1</th>\n",
       "      <td>Passat</td>\n",
       "      <td>2003</td>\n",
       "      <td>5712.0</td>\n",
       "      <td>106000.0</td>\n",
       "    </tr>\n",
       "    <tr>\n",
       "      <th>2</th>\n",
       "      <td>Crossfox</td>\n",
       "      <td>1991</td>\n",
       "      <td>37123.0</td>\n",
       "      <td>72000.0</td>\n",
       "    </tr>\n",
       "  </tbody>\n",
       "</table>\n",
       "</div>"
      ],
      "text/plain": [
       "       Nome   Ano  Quilometragem     Valor\n",
       "1    Passat  2003         5712.0  106000.0\n",
       "2  Crossfox  1991        37123.0   72000.0"
      ]
     },
     "execution_count": 63,
     "metadata": {},
     "output_type": "execute_result"
    }
   ],
   "source": [
    "dataset[['Nome', 'Ano', 'Quilometragem', 'Valor']][1:3]\n"
   ]
  },
  {
   "cell_type": "code",
   "execution_count": 78,
   "metadata": {},
   "outputs": [],
   "source": [
    "import pandas as pd\n",
    "\n",
    "dados = {\n",
    "    'Motor': ['Motor 4.0 Turbo', 'Motor Diesel', 'Motor Diesel V8', 'Motor 2.0', 'Motor 1.6'],\n",
    "    'Ano': [2019, 2003, 1991, 2019, 1990],\n",
    "    'Quilometragem': [0.0, 5712.0, 37123.0, 0.0, 120000.0],\n",
    "    'Zero_km': [True, False, False, True, False],\n",
    "    'Valor': [88000.0, 106000.0, 72000.0, 89000.0, 32000.0]\n",
    "}\n",
    "\n",
    "dataset = pd.DataFrame(dados, index = ['Jetta', 'Passat', 'Crossfox', 'DS5', 'Fusca'])"
   ]
  },
  {
   "cell_type": "code",
   "execution_count": 79,
   "metadata": {},
   "outputs": [
    {
     "data": {
      "text/html": [
       "<div>\n",
       "<style scoped>\n",
       "    .dataframe tbody tr th:only-of-type {\n",
       "        vertical-align: middle;\n",
       "    }\n",
       "\n",
       "    .dataframe tbody tr th {\n",
       "        vertical-align: top;\n",
       "    }\n",
       "\n",
       "    .dataframe thead th {\n",
       "        text-align: right;\n",
       "    }\n",
       "</style>\n",
       "<table border=\"1\" class=\"dataframe\">\n",
       "  <thead>\n",
       "    <tr style=\"text-align: right;\">\n",
       "      <th></th>\n",
       "      <th>Motor</th>\n",
       "      <th>Ano</th>\n",
       "      <th>Quilometragem</th>\n",
       "      <th>Zero_km</th>\n",
       "      <th>Valor</th>\n",
       "    </tr>\n",
       "  </thead>\n",
       "  <tbody>\n",
       "    <tr>\n",
       "      <th>Jetta</th>\n",
       "      <td>Motor 4.0 Turbo</td>\n",
       "      <td>2019</td>\n",
       "      <td>0.0</td>\n",
       "      <td>True</td>\n",
       "      <td>88000.0</td>\n",
       "    </tr>\n",
       "    <tr>\n",
       "      <th>Passat</th>\n",
       "      <td>Motor Diesel</td>\n",
       "      <td>2003</td>\n",
       "      <td>5712.0</td>\n",
       "      <td>False</td>\n",
       "      <td>106000.0</td>\n",
       "    </tr>\n",
       "    <tr>\n",
       "      <th>Crossfox</th>\n",
       "      <td>Motor Diesel V8</td>\n",
       "      <td>1991</td>\n",
       "      <td>37123.0</td>\n",
       "      <td>False</td>\n",
       "      <td>72000.0</td>\n",
       "    </tr>\n",
       "    <tr>\n",
       "      <th>DS5</th>\n",
       "      <td>Motor 2.0</td>\n",
       "      <td>2019</td>\n",
       "      <td>0.0</td>\n",
       "      <td>True</td>\n",
       "      <td>89000.0</td>\n",
       "    </tr>\n",
       "    <tr>\n",
       "      <th>Fusca</th>\n",
       "      <td>Motor 1.6</td>\n",
       "      <td>1990</td>\n",
       "      <td>120000.0</td>\n",
       "      <td>False</td>\n",
       "      <td>32000.0</td>\n",
       "    </tr>\n",
       "  </tbody>\n",
       "</table>\n",
       "</div>"
      ],
      "text/plain": [
       "                    Motor   Ano  Quilometragem  Zero_km     Valor\n",
       "Jetta     Motor 4.0 Turbo  2019            0.0     True   88000.0\n",
       "Passat       Motor Diesel  2003         5712.0    False  106000.0\n",
       "Crossfox  Motor Diesel V8  1991        37123.0    False   72000.0\n",
       "DS5             Motor 2.0  2019            0.0     True   89000.0\n",
       "Fusca           Motor 1.6  1990       120000.0    False   32000.0"
      ]
     },
     "execution_count": 79,
     "metadata": {},
     "output_type": "execute_result"
    }
   ],
   "source": [
    "dataset"
   ]
  },
  {
   "cell_type": "code",
   "execution_count": 82,
   "metadata": {},
   "outputs": [
    {
     "data": {
      "text/html": [
       "<div>\n",
       "<style scoped>\n",
       "    .dataframe tbody tr th:only-of-type {\n",
       "        vertical-align: middle;\n",
       "    }\n",
       "\n",
       "    .dataframe tbody tr th {\n",
       "        vertical-align: top;\n",
       "    }\n",
       "\n",
       "    .dataframe thead th {\n",
       "        text-align: right;\n",
       "    }\n",
       "</style>\n",
       "<table border=\"1\" class=\"dataframe\">\n",
       "  <thead>\n",
       "    <tr style=\"text-align: right;\">\n",
       "      <th></th>\n",
       "      <th>Motor</th>\n",
       "      <th>Valor</th>\n",
       "    </tr>\n",
       "  </thead>\n",
       "  <tbody>\n",
       "    <tr>\n",
       "      <th>Passat</th>\n",
       "      <td>Motor Diesel</td>\n",
       "      <td>106000.0</td>\n",
       "    </tr>\n",
       "    <tr>\n",
       "      <th>DS5</th>\n",
       "      <td>Motor 2.0</td>\n",
       "      <td>89000.0</td>\n",
       "    </tr>\n",
       "  </tbody>\n",
       "</table>\n",
       "</div>"
      ],
      "text/plain": [
       "               Motor     Valor\n",
       "Passat  Motor Diesel  106000.0\n",
       "DS5        Motor 2.0   89000.0"
      ]
     },
     "execution_count": 82,
     "metadata": {},
     "output_type": "execute_result"
    }
   ],
   "source": [
    "dataset.loc[['Passat','DS5'], ['Motor', 'Valor']]"
   ]
  },
  {
   "cell_type": "code",
   "execution_count": 83,
   "metadata": {},
   "outputs": [],
   "source": [
    "import pandas as pd\n",
    "\n",
    "dados = {\n",
    "    'Motor': ['Motor 4.0 Turbo', 'Motor Diesel', 'Motor Diesel V8', 'Motor Diesel', 'Motor 1.6'],\n",
    "    'Ano': [2019, 2003, 1991, 2019, 1990],\n",
    "    'Quilometragem': [0.0, 5712.0, 37123.0, 0.0, 120000.0],\n",
    "    'Zero_km': [True, False, False, True, False],\n",
    "    'Valor': [88000.0, 106000.0, 72000.0, 89000.0, 32000.0]\n",
    "}\n",
    "\n",
    "dataset = pd.DataFrame(dados, index = ['Jetta', 'Passat', 'Crossfox', 'DS5', 'Fusca'])"
   ]
  },
  {
   "cell_type": "code",
   "execution_count": 90,
   "metadata": {},
   "outputs": [
    {
     "name": "stdout",
     "output_type": "stream",
     "text": [
      "<class 'pandas.core.series.Series'>\n",
      "<class 'pandas.core.frame.DataFrame'>\n"
     ]
    }
   ],
   "source": [
    "select = (dataset.Motor == 'Motor Diesel')\n",
    "print(type(select))\n",
    "dataset[select]\n",
    "print(type(dataset[select]))"
   ]
  }
 ],
 "metadata": {
  "interpreter": {
   "hash": "97ff44d2e662f967aba4ecf11130c72213852f684a1585e722becbd841f7df4d"
  },
  "kernelspec": {
   "display_name": "Python 3.10.4 ('estudo')",
   "language": "python",
   "name": "python3"
  },
  "language_info": {
   "codemirror_mode": {
    "name": "ipython",
    "version": 3
   },
   "file_extension": ".py",
   "mimetype": "text/x-python",
   "name": "python",
   "nbconvert_exporter": "python",
   "pygments_lexer": "ipython3",
   "version": "3.10.4"
  },
  "orig_nbformat": 4
 },
 "nbformat": 4,
 "nbformat_minor": 2
}
