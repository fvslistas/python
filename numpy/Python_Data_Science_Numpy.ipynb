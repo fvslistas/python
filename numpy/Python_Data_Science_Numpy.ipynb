{
 "cells": [
  {
   "cell_type": "markdown",
   "metadata": {},
   "source": [
    "Carregando"
   ]
  },
  {
   "cell_type": "code",
   "execution_count": 5,
   "metadata": {},
   "outputs": [],
   "source": [
    "import numpy as np\n",
    "\n",
    "anos = np.loadtxt(fname='data/carros-anos.txt', dtype=int)\n",
    "km = np.loadtxt(fname='data/carros-km.txt')\n",
    "valor = np.loadtxt(fname='data/carros-valor.txt')"
   ]
  },
  {
   "cell_type": "code",
   "execution_count": 6,
   "metadata": {},
   "outputs": [
    {
     "data": {
      "text/plain": [
       "(258, 3)"
      ]
     },
     "execution_count": 6,
     "metadata": {},
     "output_type": "execute_result"
    }
   ],
   "source": [
    "dataset = np.column_stack((anos, km, valor))\n",
    "dataset.shape"
   ]
  },
  {
   "cell_type": "code",
   "execution_count": 7,
   "metadata": {},
   "outputs": [
    {
     "name": "stdout",
     "output_type": "stream",
     "text": [
      "44499.41472868217\n",
      "39859.82699005149\n",
      "11480849.0\n"
     ]
    }
   ],
   "source": [
    "print(np.mean(dataset[:, 1]))\n",
    "print(np.std(dataset[:, 1]))\n",
    "print(np.sum(dataset[:, 1]))"
   ]
  },
  {
   "cell_type": "code",
   "execution_count": 8,
   "metadata": {},
   "outputs": [
    {
     "data": {
      "text/plain": [
       "{'Crossfox': {'valor': 72000, 'ano': 2005},\n",
       " 'DS5': {'valor': 125000, 'ano': 2015},\n",
       " 'Fusca': {'valor': 150000, 'ano': 1976},\n",
       " 'Jetta': {'valor': 88000, 'ano': 2010},\n",
       " 'Passat': {'valor': 106000, 'ano': 1998}}"
      ]
     },
     "execution_count": 8,
     "metadata": {},
     "output_type": "execute_result"
    }
   ],
   "source": [
    "dados = {\n",
    "    'Crossfox': {'valor': 72000, 'ano': 2005}, \n",
    "    'DS5': {'valor': 125000, 'ano': 2015}, \n",
    "    'Fusca': {'valor': 150000, 'ano': 1976}, \n",
    "    'Jetta': {'valor': 88000, 'ano': 2010}, \n",
    "    'Passat': {'valor': 106000, 'ano': 1998}\n",
    "}\n",
    "dados"
   ]
  },
  {
   "cell_type": "code",
   "execution_count": 22,
   "metadata": {},
   "outputs": [
    {
     "name": "stdout",
     "output_type": "stream",
     "text": [
      "2005\n",
      "2015\n",
      "1976\n",
      "2010\n",
      "1998\n"
     ]
    }
   ],
   "source": [
    "for item in dados.items() :\n",
    "    print(item[1]['ano'])\n",
    "    \n"
   ]
  }
 ],
 "metadata": {
  "interpreter": {
   "hash": "97ff44d2e662f967aba4ecf11130c72213852f684a1585e722becbd841f7df4d"
  },
  "kernelspec": {
   "display_name": "Python 3.10.4 ('estudo')",
   "language": "python",
   "name": "python3"
  },
  "language_info": {
   "codemirror_mode": {
    "name": "ipython",
    "version": 3
   },
   "file_extension": ".py",
   "mimetype": "text/x-python",
   "name": "python",
   "nbconvert_exporter": "python",
   "pygments_lexer": "ipython3",
   "version": "3.10.4"
  },
  "orig_nbformat": 4
 },
 "nbformat": 4,
 "nbformat_minor": 2
}
